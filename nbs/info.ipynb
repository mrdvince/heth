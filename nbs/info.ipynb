{
 "cells": [
  {
   "cell_type": "code",
   "execution_count": 1,
   "id": "b33b6612",
   "metadata": {},
   "outputs": [],
   "source": [
    "import os\n",
    "import boto3\n",
    "import rasterio as rio\n",
    "import satsearch\n",
    "from json import load\n",
    "from rasterio.features import bounds\n",
    "import matplotlib.pyplot as plt\n",
    "from pyproj import Transformer\n",
    "\n",
    "%matplotlib inline"
   ]
  },
  {
   "cell_type": "code",
   "execution_count": 2,
   "id": "bde494e7",
   "metadata": {},
   "outputs": [
    {
     "name": "stdout",
     "output_type": "stream",
     "text": [
      "Found 53393360items\n"
     ]
    }
   ],
   "source": [
    "SentinelSTAC = satsearch.Search.search( url = \"https://earth-search.aws.element84.com/v0\" )\n",
    "print(\"Found \" + str(SentinelSTAC.found()) + \"items\")"
   ]
  },
  {
   "cell_type": "code",
   "execution_count": 5,
   "id": "8254df46",
   "metadata": {},
   "outputs": [],
   "source": [
    "file_path = \"../data/map.geojson\"\n",
    "file_content = load(open(file_path))\n",
    "geometry = file_content[\"features\"][0][\"geometry\"]\n",
    "\n",
    "timeRange = '2022-01-01/2022-08-01'"
   ]
  },
  {
   "cell_type": "code",
   "execution_count": 6,
   "id": "72cd1735",
   "metadata": {},
   "outputs": [],
   "source": [
    "SentinelSearch = satsearch.Search.search( \n",
    "    url = \"https://earth-search.aws.element84.com/v0\",\n",
    "    intersects = geometry,\n",
    "    datetime = timeRange,\n",
    "    collections = ['sentinel-s2-l2a-cogs'] )"
   ]
  },
  {
   "cell_type": "code",
   "execution_count": 14,
   "id": "958c0c9e",
   "metadata": {},
   "outputs": [],
   "source": [
    "items = SentinelSearch.items()"
   ]
  },
  {
   "cell_type": "code",
   "execution_count": 15,
   "id": "949f5747",
   "metadata": {},
   "outputs": [],
   "source": [
    "item = items[0]"
   ]
  },
  {
   "cell_type": "code",
   "execution_count": 23,
   "id": "48b3c288",
   "metadata": {},
   "outputs": [
    {
     "data": {
      "text/plain": [
       "dict_keys(['thumbnail', 'overview', 'info', 'metadata', 'visual', 'B01', 'B02', 'B03', 'B04', 'B05', 'B06', 'B07', 'B08', 'B8A', 'B09', 'B11', 'B12', 'AOT', 'WVP', 'SCL'])"
      ]
     },
     "execution_count": 23,
     "metadata": {},
     "output_type": "execute_result"
    }
   ],
   "source": [
    "item.assets.keys()"
   ]
  },
  {
   "cell_type": "code",
   "execution_count": 26,
   "id": "210f05c5",
   "metadata": {},
   "outputs": [
    {
     "data": {
      "text/plain": [
       "{'title': 'True color image',\n",
       " 'type': 'image/tiff; application=geotiff; profile=cloud-optimized',\n",
       " 'roles': ['overview'],\n",
       " 'gsd': 10,\n",
       " 'eo:bands': [{'name': 'B04',\n",
       "   'common_name': 'red',\n",
       "   'center_wavelength': 0.6645,\n",
       "   'full_width_half_max': 0.038},\n",
       "  {'name': 'B03',\n",
       "   'common_name': 'green',\n",
       "   'center_wavelength': 0.56,\n",
       "   'full_width_half_max': 0.045},\n",
       "  {'name': 'B02',\n",
       "   'common_name': 'blue',\n",
       "   'center_wavelength': 0.4966,\n",
       "   'full_width_half_max': 0.098}],\n",
       " 'href': 'https://sentinel-cogs.s3.us-west-2.amazonaws.com/sentinel-s2-l2a-cogs/36/M/ZE/2022/8/S2A_36MZE_20220801_0_L2A/L2A_PVI.tif',\n",
       " 'proj:shape': [343, 343],\n",
       " 'proj:transform': [320, 0, 799980, 0, -320, 10000000, 0, 0, 1]}"
      ]
     },
     "execution_count": 26,
     "metadata": {},
     "output_type": "execute_result"
    }
   ],
   "source": [
    "item.assets[\"overview\"]"
   ]
  },
  {
   "cell_type": "code",
   "execution_count": 27,
   "id": "9d2e47b0",
   "metadata": {},
   "outputs": [
    {
     "data": {
      "text/plain": [
       "{'title': 'Original JSON metadata',\n",
       " 'type': 'application/json',\n",
       " 'roles': ['metadata'],\n",
       " 'href': 'https://roda.sentinel-hub.com/sentinel-s2-l2a/tiles/36/M/ZE/2022/8/1/0/tileInfo.json'}"
      ]
     },
     "execution_count": 27,
     "metadata": {},
     "output_type": "execute_result"
    }
   ],
   "source": [
    "item.assets[\"info\"]"
   ]
  },
  {
   "cell_type": "code",
   "execution_count": 28,
   "id": "31a9ddf8",
   "metadata": {},
   "outputs": [
    {
     "data": {
      "text/plain": [
       "{'title': 'Original XML metadata',\n",
       " 'type': 'application/xml',\n",
       " 'roles': ['metadata'],\n",
       " 'href': 'https://roda.sentinel-hub.com/sentinel-s2-l2a/tiles/36/M/ZE/2022/8/1/0/metadata.xml'}"
      ]
     },
     "execution_count": 28,
     "metadata": {},
     "output_type": "execute_result"
    }
   ],
   "source": [
    "item.assets[\"metadata\"]"
   ]
  },
  {
   "cell_type": "code",
   "execution_count": 32,
   "id": "81ceb8ad",
   "metadata": {},
   "outputs": [
    {
     "data": {
      "text/plain": [
       "{'title': 'Scene Classification Map (SCL)',\n",
       " 'type': 'image/tiff; application=geotiff; profile=cloud-optimized',\n",
       " 'roles': ['data'],\n",
       " 'href': 'https://sentinel-cogs.s3.us-west-2.amazonaws.com/sentinel-s2-l2a-cogs/36/M/ZE/2022/8/S2A_36MZE_20220801_0_L2A/SCL.tif',\n",
       " 'proj:shape': [5490, 5490],\n",
       " 'proj:transform': [20, 0, 799980, 0, -20, 10000000, 0, 0, 1]}"
      ]
     },
     "execution_count": 32,
     "metadata": {},
     "output_type": "execute_result"
    }
   ],
   "source": [
    "# Scene Classification Map (SCL)\n",
    "item.assets[\"SCL\"]"
   ]
  },
  {
   "cell_type": "code",
   "execution_count": 34,
   "id": "3a2c3d0b",
   "metadata": {},
   "outputs": [
    {
     "data": {
      "text/plain": [
       "{'title': 'Aerosol Optical Thickness (AOT)',\n",
       " 'type': 'image/tiff; application=geotiff; profile=cloud-optimized',\n",
       " 'roles': ['data'],\n",
       " 'href': 'https://sentinel-cogs.s3.us-west-2.amazonaws.com/sentinel-s2-l2a-cogs/36/M/ZE/2022/8/S2A_36MZE_20220801_0_L2A/AOT.tif',\n",
       " 'proj:shape': [1830, 1830],\n",
       " 'proj:transform': [60, 0, 799980, 0, -60, 10000000, 0, 0, 1]}"
      ]
     },
     "execution_count": 34,
     "metadata": {},
     "output_type": "execute_result"
    }
   ],
   "source": [
    "# Aerosol Optical Thickness (AOT)\n",
    "item.assets[\"AOT\"]"
   ]
  },
  {
   "cell_type": "code",
   "execution_count": 37,
   "id": "616f0858",
   "metadata": {},
   "outputs": [
    {
     "data": {
      "text/plain": [
       "{'title': 'Water Vapour (WVP)',\n",
       " 'type': 'image/tiff; application=geotiff; profile=cloud-optimized',\n",
       " 'roles': ['data'],\n",
       " 'href': 'https://sentinel-cogs.s3.us-west-2.amazonaws.com/sentinel-s2-l2a-cogs/36/M/ZE/2022/8/S2A_36MZE_20220801_0_L2A/WVP.tif',\n",
       " 'proj:shape': [10980, 10980],\n",
       " 'proj:transform': [10, 0, 799980, 0, -10, 10000000, 0, 0, 1]}"
      ]
     },
     "execution_count": 37,
     "metadata": {},
     "output_type": "execute_result"
    }
   ],
   "source": [
    "# Water Vapour (WVP)\n",
    "item.assets[\"WVP\"]"
   ]
  }
 ],
 "metadata": {
  "kernelspec": {
   "display_name": "Python 3 (ipykernel)",
   "language": "python",
   "name": "python3"
  },
  "language_info": {
   "codemirror_mode": {
    "name": "ipython",
    "version": 3
   },
   "file_extension": ".py",
   "mimetype": "text/x-python",
   "name": "python",
   "nbconvert_exporter": "python",
   "pygments_lexer": "ipython3",
   "version": "3.9.12"
  }
 },
 "nbformat": 4,
 "nbformat_minor": 5
}
